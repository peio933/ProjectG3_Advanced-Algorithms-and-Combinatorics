{
 "cells": [
  {
   "cell_type": "markdown",
   "metadata": {
    "id": "iQCgdhdfXux5"
   },
   "source": [
    "\n",
    "# <center> Delivrable Modelisation\n",
    "\n",
    "**Deadline:** 24/10/2024\n",
    "\n",
    "**Assessment:** No\n",
    "\n",
    "**Goal:** Modelling the problem using a Jupyter Notebook\n"
   ]
  },
  {
   "cell_type": "markdown",
   "metadata": {
    "id": "RIt51_Mz79HH"
   },
   "source": [
    "## 1. Context\n",
    "\n",
    "In response to ADEME’s initiative to promote sustainable mobility, this project focuses on optimizing delivery routes across different regions to reduce travel costs and environmental impact. \n",
    "\n",
    "The objective is to minimize the total travel cost of fuel for a fleet of vehicles serving all customers from a central depot, to try and reduce the greenhouse gas emissions.\n",
    " \n",
    "The project uses the Vehicle Routing Problem (VRP), an approach in Operations Research for optimizing multi-stop delivery routes. VRP’s flexibility allows to add more important constraints, we chose a capacity limitations on each truck, to make our model more realistic.\n",
    "\n",
    "The project aims to develop a scalable, environmentally friendly solution that aligns with ADEME’s vision for innovative mobility solutions tailored to diverse territories.\n",
    "\n",
    "On this part, we will focus on the modelisation and the complexity of the problem\n"
   ]
  },
  {
   "cell_type": "markdown",
   "metadata": {
    "id": "3vtyj3sI8CJg"
   },
   "source": [
    "## 2. Formal problem representation\n",
    "\n",
    "### Problem Representation\n",
    "- **Objective**: Minimize total travel cost of fuel for a fleet of vehicles serving all customers from a central depot.\n",
    "- **Inputs**:\n",
    "  -  n : Number of nodes (nb customers + depot)\n",
    "  -  p : Number of vehicles\n",
    "  -  k : Uniform vehicle capacity\n",
    "  -  $d_{ij} $: Travel cost between nodes i and j\n",
    "  -  $q_i $: Demand at each customer node\n",
    "\n",
    "### Decision Problem\n",
    "**Feasibility**: Determine if there exists a routing configuration where each vehicle's load does not exceed k, all customers are served, and each vehicle returns to the depot.\n",
    "\n",
    "### Optimization Problem\n",
    "**Objective**:\n",
    "Minimize the total travel cost:\n",
    "$\n",
    "\\text{Minimize } \\sum_{k=1}^{p} \\sum_{i=1}^{n} \\sum_{j=1}^{n} d_{ij} x_{ijk}\n",
    "$\n",
    "\n",
    "**Subject to**:\n",
    "1. **Capacity Constraint**:\n",
    "   $\n",
    "   \\sum_{i=1}^{n} \\sum_{j=2}^{n} q_j x_{ijk} \\leq k, \\quad \\forall k \\in \\{1, \\dots, p\\}\n",
    "   $\n",
    "2. **Routing Constraints**:\n",
    "   - Each vehicle enters and exits each customer node once.\n",
    "   - All vehicles depart from and return to the depot.\n"
   ]
  },
  {
   "cell_type": "markdown",
   "metadata": {
    "id": "wx8yPzDs7H-p"
   },
   "source": [
    "## 3. Complexity property\n",
    "\n",
    "### NP hardness of the problem\n",
    "\n",
    "We know that we cannot find a solution to the optimisation problem in polynomial time. We want to find out if it is np hard though, so we try reducing the HCP (Hamiltonian Cycle Problem) that we know is NP, to our problem.\n",
    "\n",
    "**Input Instance for HCP:**\n",
    "- A connected undirected graph G = (V, E).\n",
    "\n",
    "**Constructing the VRP Instance:**\n",
    "1. **Graph Conversion**: Use the same graph G to construct a complete undirected weighted graph: G' = (V', E'), where V' = V.\n",
    "2. **Depot**: Introduce a new vertex D representing the depot.\n",
    "3. **Edge Weights**:\n",
    "   - If an edge (u, v) exists in E, set its weight to 1.\n",
    "   - For all other edges not in E, set the weight to a large number (greater than the total number of vertices V).\n",
    "4. **Capacity**: Set the vehicle capacity to V, allowing one vehicle to deliver to all vertices.\n",
    "\n",
    "**Properties of the Reduction:**\n",
    "- If a Hamiltonian cycle exists in G, it means there’s a route that visits each vertex exactly once, including returning to the depot  D. The total cost of this route in G'  will be V (since each edge in the Hamiltonian cycle has a weight of 1).\n",
    "- The conversely is true, as if a Hamiltonian cycle does not exist in G, any route in G' will involve edges that contribute to a total weight greater than V because it will need to include edges with large weights, so it will fail to return within the capacity constraint.\n",
    "\n",
    "**Conclusion:**\n",
    "So we reduced to Hamiltonian cycle to the VRP, and as we know Hamiltonian cycle is NP hard so VRP is at least as hard as np, so NP hard aswell.\n"
   ]
  },
  {
   "cell_type": "markdown",
   "metadata": {
    "id": "OjMGIEN4mtnF"
   },
   "source": [
    "## 4 Mathematical model\n",
    "\n",
    "**Decision variables**:\n",
    "\n",
    "The binary variable $x_{ijk}$ has a value of 1 if the arc from node i to node j is in the optimal route and is driven by vehicle *k*.\n",
    "\n",
    "$x_{ijk} \\in \\{0,1\\} \\qquad \\forall k \\in \\{1,...,p\\},\\enspace i,j \\in \\{1,...,n\\}$\n",
    "\n",
    "There also is no travel from a node to itself:\n",
    "\n",
    "$x_{iik} = 0  \\qquad \\forall k \\in \\{1,...,p\\},\\enspace i \\in \\{1,...,n\\}$\n",
    "\n",
    "The parameter $d_{ij}$ describes the fuel cost from node i to node j. There are\n",
    " nodes (depot = 1) and p vehicles. The objective function can be formulated as follows:\n",
    "\n",
    " $Min \\sum_{k = 1}^{p}{\\sum_{i = 1}^{n}{\\sum_{j = 1}^{n}{d_{ij}x_{ijk}}}}$\n",
    "\n",
    "Every vertices have to be entered and exited exactly once by the same vehicle, at the exeption of the depot that must be left and entered once by each one.\n",
    "\n",
    "$q_i$ describes the demand of each costumer and Q is the capacity of the vehicles. The sum of the demands of all costumers that vehicle k will serve, should not exceed the capacity of vehicle k. All these constraints can be formulated as follows:\n",
    "\n",
    "**Vehicle leaves node that it enters**\n",
    "\n",
    "Make sure that the number of times a vehicle enters a vertex is equal to the number of times it leaves that said vertex:\n",
    "\n",
    "$\\sum_{i = 1}^{n}{x_{ijk}} = \\sum_{i = 1}^{n}{x_{jik}} \\qquad \\forall j \\in \\{1,...,n\\}, \\enspace k \\in \\{1,...,p\\}$\n",
    "\n",
    "We also have to check that the number of time the vertices are entered is 1 (exept for the depot)\n",
    "\n",
    "$\\sum_{k = 1}^{p}{\\sum_{i = 1}^{n}{x_{ijk}}} = 1  \\qquad \\forall j \\in \\{2,...,n\\}$\n",
    "\n",
    "**Check that every vehicle leave the depot**\n",
    "\n",
    "Since we know a vehicle has to go in and out of a vertex the same amont of time, the ensure they all leave and come back.\n",
    "\n",
    "$\\sum_{j = 2}^{n}{x_{1jk}} = 1 \\qquad \\forall k \\in \\{1,...,p\\}$\n",
    "\n",
    "**Capacity constraint**\n",
    "\n",
    "$\\sum_{i = 1}^{n} \\sum_{j = 2}^{n} q_{j} x_{ijk} \\leq Q \\quad \\forall k \\in \\{1, \\dots, p\\}$\n",
    "\n",
    "With Q the capacity of all the vehicles, our company has standardized truck with a $25m^3$ capacity. We will have Q = 25m³\n",
    "\n",
    "**Subtour elimination constraint**\n",
    "\n",
    "The binary variable $x_{ijk}$ has a value of 1 if vehicle k drives from node i to node j:\n",
    "\n",
    "$\\sum_{i \\in S, j \\notin S}{x_{ijk}} \\geq 2 \\qquad S \\subset V \\setminus \\{1\\}, \\enspace 2 \\leq |S| \\leq n - 2$"
   ]
  },
  {
   "cell_type": "markdown",
   "metadata": {
    "id": "lXgSlKFA85fm"
   },
   "source": [
    "## 5. Conclusion\n",
    "\n",
    "We studied and modelled the problem, a close variation of the VRP, as we have the capacity constraints aswell to get as close as possible to the real-life situation.\n",
    "The representation helps understanding the problem and its depth, as well as solving it, the mathematical representation which can be with solvers.\n",
    "The study of the complexity taught us we could not get an optimal solution in polynomial time, so for big instances we will have to resort to approximate path.\n"
   ]
  },
  {
   "cell_type": "markdown",
   "metadata": {
    "id": "NI8RaLH3vHwm"
   },
   "source": [
    "## 6. Bibliography\n",
    "\n",
    "##### 3L-CVRP\n",
    "\n",
    "- [Lien](https://www.msc-les.org/proceedings/hms/2013/HMS2013_7.pdf)\n",
    "- [Lien](https://www.sciencedirect.com/science/article/abs/pii/S0305054824003368)\n",
    "\n",
    "##### 3D-CVRP\n",
    "- [Lien](https://viacesifr-my.sharepoint.com/:w:/g/personal/peio_rigaud_viacesi_fr/EXDZ-ZFK46FEgMASfL5VU7sBFOUtrp9mRzcQs31v7_EDJA?e=8Efwyj)\n",
    "\n",
    "#### Other links:\n",
    "- [Lien](https://en.wikipedia.org/wiki/Vehicle_routing_problem#:~:text=The%20vehicle%20routing%20problem%20(VRP,travelling%20salesman%20problem%20(TSP))) Wikipedia VRP and TSP page\n",
    "- [Lien](https://how-to.aimms.com/Articles/332/332-Formulation-CVRP.html) Google CVRP paper\n",
    "- [Lien](https://webusers.i3s.unice.fr/~malapert/publications/malapert-06-FT.pdf) Optimisation de tournées de véhicules pourl’exploitation de réseau Telecom de Arnaud Malapert\n",
    "\n"
   ]
  }
 ],
 "metadata": {
  "colab": {
   "provenance": []
  },
  "kernelspec": {
   "display_name": "Python 3 (ipykernel)",
   "language": "python",
   "name": "python3"
  },
  "language_info": {
   "codemirror_mode": {
    "name": "ipython",
    "version": 3
   },
   "file_extension": ".py",
   "mimetype": "text/x-python",
   "name": "python",
   "nbconvert_exporter": "python",
   "pygments_lexer": "ipython3",
   "version": "3.12.3"
  }
 },
 "nbformat": 4,
 "nbformat_minor": 4
}
